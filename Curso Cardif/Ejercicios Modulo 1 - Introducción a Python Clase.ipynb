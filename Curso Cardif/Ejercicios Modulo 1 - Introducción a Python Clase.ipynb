{
 "cells": [
  {
   "cell_type": "markdown",
   "metadata": {},
   "source": [
    "# Taller Introducción a Python - Cardif"
   ]
  },
  {
   "cell_type": "markdown",
   "metadata": {},
   "source": [
    "Pongamos en práctica todos los conceptos que vimos con unos ejercicios:"
   ]
  },
  {
   "cell_type": "markdown",
   "metadata": {},
   "source": [
    "**1. Dada la siguiente lista, acceda a la palabra \"hola\" usando solamente los índices de la lista:**"
   ]
  },
  {
   "cell_type": "code",
   "execution_count": 1,
   "metadata": {},
   "outputs": [],
   "source": [
    "mi_lista = [1,2, [3,4], [5, [100,200,['hola']], 23, 11],1,7]"
   ]
  },
  {
   "cell_type": "markdown",
   "metadata": {},
   "source": [
    "Resultado Esperado: `'hola'`"
   ]
  },
  {
   "cell_type": "code",
   "execution_count": 2,
   "metadata": {},
   "outputs": [
    {
     "data": {
      "text/plain": [
       "'hola'"
      ]
     },
     "execution_count": 2,
     "metadata": {},
     "output_type": "execute_result"
    }
   ],
   "source": [
    "mi_lista[3][1][2][0]"
   ]
  },
  {
   "cell_type": "markdown",
   "metadata": {},
   "source": [
    "**2. Dada la siguiente lista, cree una nueva lista que contenga únicamente las palabras que no empiezan con la letra 's'**"
   ]
  },
  {
   "cell_type": "code",
   "execution_count": 3,
   "metadata": {},
   "outputs": [],
   "source": [
    "mi_lista = ['sopa', 'perro', 'sal', 'gato', 'grande', 'sonrisa', 'juego']"
   ]
  },
  {
   "cell_type": "markdown",
   "metadata": {},
   "source": [
    "**Resultado Esperado:** `nueva_lista = ['perro', 'gato', 'grande', 'juego]`"
   ]
  },
  {
   "cell_type": "code",
   "execution_count": 4,
   "metadata": {},
   "outputs": [
    {
     "data": {
      "text/plain": [
       "['perro', 'gato', 'grande', 'juego']"
      ]
     },
     "execution_count": 4,
     "metadata": {},
     "output_type": "execute_result"
    }
   ],
   "source": [
    "nueva_lista = []\n",
    "for palabra in mi_lista:\n",
    "    if palabra[0] != 's':\n",
    "        nueva_lista.append(palabra)\n",
    "nueva_lista"
   ]
  },
  {
   "cell_type": "code",
   "execution_count": 5,
   "metadata": {},
   "outputs": [
    {
     "data": {
      "text/plain": [
       "['perro', 'gato', 'grande', 'juego']"
      ]
     },
     "execution_count": 5,
     "metadata": {},
     "output_type": "execute_result"
    }
   ],
   "source": [
    "nueva_lista = []\n",
    "for palabra in mi_lista:\n",
    "    if not(palabra.startswith('s')):\n",
    "        nueva_lista.append(palabra)\n",
    "nueva_lista"
   ]
  },
  {
   "cell_type": "code",
   "execution_count": 6,
   "metadata": {},
   "outputs": [
    {
     "data": {
      "text/plain": [
       "['perro', 'gato', 'grande', 'juego']"
      ]
     },
     "execution_count": 6,
     "metadata": {},
     "output_type": "execute_result"
    }
   ],
   "source": [
    "nueva_lista = [palabra for palabra in mi_lista if palabra[0] != 's']\n",
    "nueva_lista"
   ]
  },
  {
   "cell_type": "markdown",
   "metadata": {},
   "source": [
    "**3. Cree una función que reciba una secuencia de 4 números (en formato lista) como parámetro, calcule su equivalente en la serie geométrica y retorne la suma de estos últimos.**\n",
    "\n",
    "**Ejemplo:** Si la secuencia de números es 0,1,2,3\n",
    "\n",
    "$$ s_n = \\frac{1}{2^{n+1}}, n=\\{0,1,2,3\\} $$\n",
    "$$ s_{1..4} = \\sum_{n=0}^{4} \\frac{1}{2^{n+1}} = \\frac{1}{2} + \\frac{1}{4} + \\frac{1}{8} + \\frac{1}{16} = 0.9375$$"
   ]
  },
  {
   "cell_type": "markdown",
   "metadata": {},
   "source": [
    "**Resultado Esperado:** `SerieGeometrica([0,1,2,3]) = 0.9375`"
   ]
  },
  {
   "cell_type": "code",
   "execution_count": 7,
   "metadata": {},
   "outputs": [],
   "source": [
    "def SerieGeometrica(secuencia):\n",
    "    sec_geom = 0\n",
    "    for num in secuencia:\n",
    "        sec_geom += 1/2**(num + 1)\n",
    "    return sec_geom"
   ]
  },
  {
   "cell_type": "code",
   "execution_count": 8,
   "metadata": {},
   "outputs": [
    {
     "data": {
      "text/plain": [
       "0.9375"
      ]
     },
     "execution_count": 8,
     "metadata": {},
     "output_type": "execute_result"
    }
   ],
   "source": [
    "SerieGeometrica([0, 1, 2, 3])"
   ]
  },
  {
   "cell_type": "code",
   "execution_count": 9,
   "metadata": {},
   "outputs": [],
   "source": [
    "def SerieGeometrica(secuencia):\n",
    "    sec_geom = []\n",
    "    for num in secuencia:\n",
    "        sec_geom.append(1/2**(num + 1))\n",
    "    return sum(sec_geom)"
   ]
  },
  {
   "cell_type": "code",
   "execution_count": 10,
   "metadata": {},
   "outputs": [
    {
     "data": {
      "text/plain": [
       "0.0008544921875"
      ]
     },
     "execution_count": 10,
     "metadata": {},
     "output_type": "execute_result"
    }
   ],
   "source": [
    "SerieGeometrica([10, 11, 12])"
   ]
  },
  {
   "cell_type": "code",
   "execution_count": 11,
   "metadata": {},
   "outputs": [],
   "source": [
    "def SerieGeometrica(fin):\n",
    "    stop = 0\n",
    "    sec_geom = 0\n",
    "    while stop <= fin:\n",
    "        sec_geom += 1/2**(stop + 1)\n",
    "        stop += 1\n",
    "    return sec_geom"
   ]
  },
  {
   "cell_type": "code",
   "execution_count": 12,
   "metadata": {},
   "outputs": [
    {
     "data": {
      "text/plain": [
       "0.9375"
      ]
     },
     "execution_count": 12,
     "metadata": {},
     "output_type": "execute_result"
    }
   ],
   "source": [
    "SerieGeometrica(3)"
   ]
  },
  {
   "cell_type": "markdown",
   "metadata": {},
   "source": [
    "**4. Un impuesto progresivo es aquel que se cobra diferencialmente con respecto a la renta, en lugar de un valor fijo para todos. Los tramos impositivos para la declaración de la renta en un determinado país son los siguientes:**\n",
    "\n",
    "|         Renta          | Tipo impositivo |\n",
    "| :--------------------: | :-------------: |\n",
    "|    Menos de 10000 USD    |       5%        |\n",
    "| Entre 10000 y 20000 USD  |       15%       |\n",
    "| Entre 20000 y 35000 USD |       20%       |\n",
    "| Entre 35000 y 60000 USD |       30%       |\n",
    "|     Más de 60000 USD     |       45%       |\n",
    "\n",
    "Cree una función que reciba por parámetro la renta de la persona y retorne el valor a pagar de impuesto de renta.\n",
    "\n",
    "**Ejemplo**: Si la renta es 15.000 USD la función debe devolver 15.000 * 15% = 2250 \n",
    "\n",
    "**Resultado Esperado:** `ImpuestoRenta(15000) = 2250`"
   ]
  },
  {
   "cell_type": "code",
   "execution_count": 13,
   "metadata": {},
   "outputs": [],
   "source": [
    "def ImpuestoRenta(renta):\n",
    "    if renta < 10000:\n",
    "        imp = renta * 0.05\n",
    "    elif renta < 20000:\n",
    "        imp = renta * 0.15\n",
    "    elif renta < 35000:\n",
    "        imp = renta * 0.2\n",
    "    elif renta < 60000:\n",
    "        imp = renta * 0.3\n",
    "    else:\n",
    "        imp = renta * 0.45\n",
    "    return imp"
   ]
  },
  {
   "cell_type": "code",
   "execution_count": 14,
   "metadata": {},
   "outputs": [
    {
     "data": {
      "text/plain": [
       "2250.0"
      ]
     },
     "execution_count": 14,
     "metadata": {},
     "output_type": "execute_result"
    }
   ],
   "source": [
    "ImpuestoRenta(15000)"
   ]
  },
  {
   "cell_type": "markdown",
   "metadata": {},
   "source": [
    "**5. Escribir una función que reciba como parámetro una palabra e imprima en pantalla el número de veces que contiene cada vocal.**\n",
    "\n",
    "**Resultado Esperado:** \n",
    "\n",
    "`NumeroVocales('interaccion') = `\n",
    "\n",
    "`\n",
    "    'Numero de apariciones de la vocal a: 1'\n",
    "    'Numero de apariciones de la vocal e: 1'\n",
    "    'Numero de apariciones de la vocal i: 2'\n",
    "    'Numero de apariciones de la vocal o: 1'\n",
    "    'Numero de apariciones de la vocal u: 0'` "
   ]
  },
  {
   "cell_type": "code",
   "execution_count": 15,
   "metadata": {},
   "outputs": [],
   "source": [
    "def NumeroVocales(palabra):\n",
    "    n_a = 0\n",
    "    n_e = 0\n",
    "    n_i = 0\n",
    "    n_o = 0\n",
    "    n_u = 0\n",
    "    \n",
    "    for letra in palabra:\n",
    "        if letra == 'a':\n",
    "            n_a += 1\n",
    "        elif letra == 'e':\n",
    "            n_e += 1\n",
    "        elif letra == 'i':\n",
    "            n_i += 1\n",
    "        elif letra == 'o':\n",
    "            n_o += 1\n",
    "        elif letra == 'u':\n",
    "            n_u += 1\n",
    "    \n",
    "    print(f'El numero de apariciones de la vocal a: {n_a}')\n",
    "    print(f'El numero de apariciones de la vocal e: {n_e}')\n",
    "    print(f'El numero de apariciones de la vocal i: {n_i}')\n",
    "    print(f'El numero de apariciones de la vocal o: {n_o}')\n",
    "    print(f'El numero de apariciones de la vocal u: {n_u}')"
   ]
  },
  {
   "cell_type": "code",
   "execution_count": 16,
   "metadata": {},
   "outputs": [
    {
     "name": "stdout",
     "output_type": "stream",
     "text": [
      "El numero de apariciones de la vocal a: 1\n",
      "El numero de apariciones de la vocal e: 1\n",
      "El numero de apariciones de la vocal i: 2\n",
      "El numero de apariciones de la vocal o: 1\n",
      "El numero de apariciones de la vocal u: 0\n"
     ]
    }
   ],
   "source": [
    "NumeroVocales('interaccion')"
   ]
  },
  {
   "cell_type": "markdown",
   "metadata": {},
   "source": [
    "**6** El centro de envío de la ciudad de Dimsdale despacha paquetes a 5 ciudades. Cuando llega un paquete nuevo, este es asignado aleatoriamente a alguna de las ciudades destino, con la frecuencia consignada en la siguiente tabla.\n",
    "\n",
    "\n",
    "|         Ciudad         | Frecuencia de Envío |\n",
    "| :--------------------: | :-------------:     |\n",
    "|    Nueva York          |       17%           |\n",
    "| Londres                |       15%           |\n",
    "| Roma                   |       34%           |\n",
    "| Ontario                |       22%           |\n",
    "|     Munich             |       12%           |\n",
    "\n",
    "Si cada día llegan al centro de envío 2500 paquetes, escriba una función que simule los envios realizados en un número de días que recibirá por parámetro e imprima en pantalla el número de paquetes enviados a cada una de las ciudades.\n",
    "\n",
    "**Ayuda: El comando `np.random.random()` le ayudará a generar números aleatorios distribuidos uniformemente entre 0 y 1**\n",
    "\n",
    "**Resultado Esperado**\n",
    "```python\n",
    "Envios_Dimsdale(5) = En 5 días de envíos a Nueva York se enviaron 2084 paquetes\n",
    "                     En 5 días de envíos a Londres se enviaron 1862 paquetes\n",
    "                     En 5 días de envíos a Roma se enviaron 4326 paquetes\n",
    "                     En 5 días de envíos a Ontario se enviaron 2766 paquetes\n",
    "                     En 5 días de envíos a Munich se enviaron 1462 paquetes\n",
    "```\n"
   ]
  },
  {
   "cell_type": "code",
   "execution_count": 17,
   "metadata": {},
   "outputs": [],
   "source": [
    "import numpy as np"
   ]
  },
  {
   "cell_type": "code",
   "execution_count": 18,
   "metadata": {},
   "outputs": [],
   "source": [
    "def Envios(dias):\n",
    "    n_paquetes = 2500 * dias\n",
    "    probs = [0.17, 0.15, 0.34, 0.22, 0.12]\n",
    "    probs = np.cumsum(probs)\n",
    "    env = {'NY': 0,\n",
    "          'LONDRES': 0,\n",
    "          'ROMA': 0,\n",
    "          'ONTARIO': 0,\n",
    "          'MUNICH': 0}\n",
    "    \n",
    "    for paquete in range(n_paquetes):\n",
    "        prob = np.random.random()\n",
    "        if prob < probs[0]:\n",
    "            env['NY'] += 1\n",
    "        elif prob < probs[1]:\n",
    "            env['LONDRES'] += 1\n",
    "        elif prob < probs[2]:\n",
    "            env['ROMA'] += 1\n",
    "        elif prob < probs[3]:\n",
    "            env['ONTARIO'] += 1\n",
    "        else:\n",
    "            env['MUNICH'] += 1\n",
    "    \n",
    "    for k,v in env.items():\n",
    "        print(f'En {dias} dias de envios a {k} se enviaron {v} paquetes')"
   ]
  },
  {
   "cell_type": "code",
   "execution_count": 19,
   "metadata": {},
   "outputs": [
    {
     "name": "stdout",
     "output_type": "stream",
     "text": [
      "En 5 dias de envios a NY se enviaron 2210 paquetes\n",
      "En 5 dias de envios a LONDRES se enviaron 1796 paquetes\n",
      "En 5 dias de envios a ROMA se enviaron 4193 paquetes\n",
      "En 5 dias de envios a ONTARIO se enviaron 2782 paquetes\n",
      "En 5 dias de envios a MUNICH se enviaron 1519 paquetes\n"
     ]
    }
   ],
   "source": [
    "Envios(5)"
   ]
  }
 ],
 "metadata": {
  "kernelspec": {
   "display_name": "Python 3 (ipykernel)",
   "language": "python",
   "name": "python3"
  },
  "language_info": {
   "codemirror_mode": {
    "name": "ipython",
    "version": 3
   },
   "file_extension": ".py",
   "mimetype": "text/x-python",
   "name": "python",
   "nbconvert_exporter": "python",
   "pygments_lexer": "ipython3",
   "version": "3.9.12"
  }
 },
 "nbformat": 4,
 "nbformat_minor": 4
}
