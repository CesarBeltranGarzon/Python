{
 "cells": [
  {
   "cell_type": "code",
   "execution_count": null,
   "id": "bb210336",
   "metadata": {},
   "outputs": [],
   "source": [
    "import pandas as pd\n",
    "from IPython.display import display\n",
    "import tkinter as tk\n",
    "from tkinter import filedialog\n",
    "\n",
    "# Función para abrir un cuadro de diálogo y seleccionar el archivo Excel\n",
    "def cargar_archivo():\n",
    "    # Abrir el cuadro de diálogo para elegir un archivo Excel\n",
    "    root = tk.Tk()\n",
    "    root.withdraw()  # Ocultar la ventana principal\n",
    "    file_path = filedialog.askopenfilename(title=\"Selecciona un archivo Excel\", \n",
    "                                           filetypes=[(\"Archivos Excel\", \"*.xls;*.xlsx\")])\n",
    "    return file_path\n",
    "\n",
    "# Llamar la función para cargar el archivo Excel\n",
    "archivo = cargar_archivo()\n",
    "\n",
    "# Verificar que se ha seleccionado un archivo\n",
    "if archivo:\n",
    "    # Leer el archivo Excel\n",
    "    df = pd.read_excel(archivo)\n",
    "    \n",
    "    # Mostrar las primeras filas del archivo cargado\n",
    "    display(df.head())  # Muestra el DataFrame en el notebook\n",
    "else:\n",
    "    print(\"No se seleccionó ningún archivo.\")"
   ]
  }
 ],
 "metadata": {
  "kernelspec": {
   "display_name": "Python 3 (ipykernel)",
   "language": "python",
   "name": "python3"
  },
  "language_info": {
   "codemirror_mode": {
    "name": "ipython",
    "version": 3
   },
   "file_extension": ".py",
   "mimetype": "text/x-python",
   "name": "python",
   "nbconvert_exporter": "python",
   "pygments_lexer": "ipython3",
   "version": "3.9.12"
  }
 },
 "nbformat": 4,
 "nbformat_minor": 5
}
